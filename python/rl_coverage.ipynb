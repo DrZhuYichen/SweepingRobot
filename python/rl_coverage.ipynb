{
 "cells": [
  {
   "cell_type": "code",
   "execution_count": 18,
   "metadata": {},
   "outputs": [],
   "source": [
    "import random\n",
    "from random import randint\n",
    "\"\"\"\n",
    "Map is a two dimension matrix.\n",
    "O: robot can move\n",
    "-1: robot can not move\n",
    "\"\"\"\n",
    "def generate_map_random(cols, rows, obstacles_no):\n",
    "    maps = []\n",
    "    temp = []\n",
    "    values=[]\n",
    "    for i in range(cols*rows):\n",
    "        temp.append(0)\n",
    "    for i in range(obstacles_no):\n",
    "        temp[i] = -1\n",
    "    random.shuffle(temp)\n",
    "    observed_map = []\n",
    "    for j in range(rows):\n",
    "        r = []\n",
    "        s = []\n",
    "        t = []\n",
    "        for i in range(cols):\n",
    "            r.append(temp[j*cols+i])\n",
    "            s.append(-1)\n",
    "            t.append(0.00)\n",
    "        observed_map.append(s)\n",
    "        maps.append(r)\n",
    "        values.append(t)\n",
    "    return maps, observed_map,values\n",
    "\n",
    "def generate_map_random_for_test(cols, rows, obstacles_no):\n",
    "    maps = []\n",
    "    for j in range(rows):\n",
    "        r = []\n",
    "        for i in range(cols):\n",
    "            r.append(1)\n",
    "        maps.append(r)\n",
    "    for k in range(obstacles_no):\n",
    "        i = randint(0, rows - 1)\n",
    "        j = randint(0, cols - 1)\n",
    "        maps[i][j] = -1\n",
    "    for k in range(1):\n",
    "        i = randint(0, rows - 1)\n",
    "        j = randint(0, cols - 1)\n",
    "        maps[i][j] = 0\n",
    "    return maps\n",
    "def print_matrix(matrix):\n",
    "    rows = len(matrix)\n",
    "    cols = len(matrix[0])\n",
    "    steps = 0\n",
    "    for i in range(rows):\n",
    "        print(matrix[i])\n",
    "        for j in range(cols):\n",
    "            if matrix[i][j]>=0:\n",
    "                steps += matrix[i][j]\n",
    "    print('step number', steps)\n",
    "def print_progress_matrix(matrix):\n",
    "    rows = len(matrix)\n",
    "    cols = len(matrix[0])\n",
    "    positive_number = 0\n",
    "    nagative_number = 0\n",
    "    zero_number = 0\n",
    "    steps = 0\n",
    "    for i in range(rows):\n",
    "        for j in range(cols):\n",
    "            if matrix[i][j]>0:\n",
    "                positive_number += 1\n",
    "                steps += matrix[i][j]\n",
    "            if matrix[i][j]<0:\n",
    "                nagative_number += 1\n",
    "            if matrix[i][j]==0:\n",
    "                zero_number += 1\n",
    "    print('positive', positive_number, 'nagative', nagative_number,'zero', zero_number, 'step', steps)"
   ]
  },
  {
   "cell_type": "code",
   "execution_count": 19,
   "metadata": {},
   "outputs": [],
   "source": [
    "class Position:\n",
    "    x = 0\n",
    "    y = 0\n",
    "    def __init__(self, x, y):\n",
    "        self.x = x\n",
    "        self.y = y\n",
    "    def pos(self):\n",
    "        return \"{}-{}\".format(self.x, self.y)"
   ]
  },
  {
   "cell_type": "code",
   "execution_count": 3,
   "metadata": {},
   "outputs": [],
   "source": [
    "maps, observed_map,values = generate_map_random(5,5,0)\n",
    "start_position = Position(0, 0)\n",
    "\n"
   ]
  },
  {
   "cell_type": "code",
   "execution_count": 35,
   "metadata": {},
   "outputs": [],
   "source": [
    "pos=Position(start_position.x,start_position.y)"
   ]
  },
  {
   "cell_type": "code",
   "execution_count": 12,
   "metadata": {},
   "outputs": [
    {
     "data": {
      "text/plain": [
       "[[0.0, 0.0, 0.0, 0.0, 0.0],\n",
       " [0.0, 0.0, 0.0, 0.0, 0.0],\n",
       " [0.0, 0.0, 0.0, 0.0, 0.0],\n",
       " [0.0, 0.0, 0.0, 0.0, 0.0],\n",
       " [0.0, 0.0, 0.0, 0.0, 0.0]]"
      ]
     },
     "execution_count": 12,
     "metadata": {},
     "output_type": "execute_result"
    }
   ],
   "source": [
    "values"
   ]
  },
  {
   "cell_type": "code",
   "execution_count": 5,
   "metadata": {},
   "outputs": [
    {
     "data": {
      "text/plain": [
       "[[0, 0, 0, 0, 0],\n",
       " [0, 0, 0, 0, 0],\n",
       " [0, 0, 0, 0, 0],\n",
       " [0, 0, 0, 0, 0],\n",
       " [0, 0, 0, 0, 0]]"
      ]
     },
     "execution_count": 5,
     "metadata": {},
     "output_type": "execute_result"
    }
   ],
   "source": [
    "maps"
   ]
  },
  {
   "cell_type": "code",
   "execution_count": 71,
   "metadata": {},
   "outputs": [
    {
     "data": {
      "text/plain": [
       "4"
      ]
     },
     "execution_count": 71,
     "metadata": {},
     "output_type": "execute_result"
    }
   ],
   "source": [
    "len(maps)"
   ]
  },
  {
   "cell_type": "code",
   "execution_count": 36,
   "metadata": {},
   "outputs": [
    {
     "data": {
      "text/plain": [
       "0.0"
      ]
     },
     "execution_count": 36,
     "metadata": {},
     "output_type": "execute_result"
    }
   ],
   "source": [
    "values[pos.x][pos.y]"
   ]
  },
  {
   "cell_type": "code",
   "execution_count": 26,
   "metadata": {},
   "outputs": [],
   "source": [
    "maps, observed_map,values = generate_map_random(4,4,0)\n"
   ]
  },
  {
   "cell_type": "code",
   "execution_count": 33,
   "metadata": {},
   "outputs": [],
   "source": [
    "state=0"
   ]
  },
  {
   "cell_type": "code",
   "execution_count": 59,
   "metadata": {},
   "outputs": [],
   "source": [
    "def state2loc(state,maps):\n",
    "    row=(state/len(maps[0]))\n",
    "    col=state-int(row)*len(maps[0])\n",
    "    return int(row),int(col)\n",
    "def loc2state(row,col,maps):\n",
    "    return int(len(maps[0])*row+col)"
   ]
  },
  {
   "cell_type": "code",
   "execution_count": 70,
   "metadata": {},
   "outputs": [
    {
     "data": {
      "text/plain": [
       "0"
      ]
     },
     "execution_count": 70,
     "metadata": {},
     "output_type": "execute_result"
    }
   ],
   "source": [
    "(maps[-1][-1]).i"
   ]
  },
  {
   "cell_type": "code",
   "execution_count": 86,
   "metadata": {},
   "outputs": [],
   "source": [
    "def look(state,maps):\n",
    "    av=[]\n",
    "    actions=[]\n",
    "    row,col=state2loc(state,maps)\n",
    "    if (row-1)>-1 and maps[row-1][col]==0:\n",
    "        av.append(loc2state(row-1,col,maps))\n",
    "        actions.append(0)\n",
    "    if (row+1)<len(maps[0]) and maps[row+1][col]==0:\n",
    "        av.append(loc2state(row+1,col,maps))\n",
    "        actions.append(1)\n",
    "    if (col-1)>-1 and maps[row][col-1]==0:\n",
    "        av.append(loc2state(row,col-1,maps))\n",
    "        actions.append(2)\n",
    "    if (col+1)<len(maps) and maps[row][col+1]==0:\n",
    "        av.append(loc2state(row,col+1,maps))\n",
    "        actions.append(3)\n",
    "    return av,actions"
   ]
  },
  {
   "cell_type": "code",
   "execution_count": 93,
   "metadata": {},
   "outputs": [],
   "source": [
    "def act(state,avac,maps):\n",
    "    if avac == 0:\n",
    "        state=state-4\n",
    "    if avac ==1:\n",
    "        state=state+4\n",
    "    if avac==2:\n",
    "        state=state-1\n",
    "    if avac==3:\n",
    "        state=state+1\n",
    "    return state"
   ]
  },
  {
   "cell_type": "code",
   "execution_count": 96,
   "metadata": {},
   "outputs": [
    {
     "data": {
      "text/plain": [
       "0.0"
      ]
     },
     "execution_count": 96,
     "metadata": {},
     "output_type": "execute_result"
    }
   ],
   "source": [
    "max(qvalues[0])"
   ]
  },
  {
   "cell_type": "code",
   "execution_count": 98,
   "metadata": {},
   "outputs": [],
   "source": []
  },
  {
   "cell_type": "code",
   "execution_count": 99,
   "metadata": {},
   "outputs": [
    {
     "data": {
      "text/plain": [
       "[1, 2, 4, 7]"
      ]
     },
     "execution_count": 99,
     "metadata": {},
     "output_type": "execute_result"
    }
   ],
   "source": []
  },
  {
   "cell_type": "code",
   "execution_count": 116,
   "metadata": {},
   "outputs": [],
   "source": []
  },
  {
   "cell_type": "code",
   "execution_count": 138,
   "metadata": {},
   "outputs": [
    {
     "data": {
      "text/plain": [
       "[[0.0, 0.0, 0.0, 0.0],\n",
       " [0.0, 0.0, 0.0, 0.0],\n",
       " [0.0, 0.0, 0.0, 0.0],\n",
       " [0.0, 0.0, 0.0, 0.0],\n",
       " [0.0, 0.0, 0.0, 0.0],\n",
       " [0.0, 0.0, 0.0, 0.0],\n",
       " [0.0, 0.0, 0.0, 0.0],\n",
       " [0.0, 0.0, 0.0, 0.0],\n",
       " [0.0, 0.0, 0.0, 0.0],\n",
       " [0.0, 0.0, 0.0, 0.0],\n",
       " [0.0, 0.0, 0.0, 0.0],\n",
       " [0.0, 0.0, 0.0, 0.0],\n",
       " [0.0, 0.0, 0.0, 0.0],\n",
       " [0.0, 0.0, 0.0, 0.0],\n",
       " [0.0, 0.0, 0.0, 0.0],\n",
       " [0.0, 0.0, 0.0, 0.0]]"
      ]
     },
     "execution_count": 138,
     "metadata": {},
     "output_type": "execute_result"
    }
   ],
   "source": [
    "qvalues"
   ]
  },
  {
   "cell_type": "code",
   "execution_count": 270,
   "metadata": {},
   "outputs": [],
   "source": []
  },
  {
   "cell_type": "code",
   "execution_count": 276,
   "metadata": {},
   "outputs": [],
   "source": []
  },
  {
   "cell_type": "code",
   "execution_count": 252,
   "metadata": {},
   "outputs": [
    {
     "data": {
      "text/plain": [
       "([4, 12, 9], [0, 1, 3])"
      ]
     },
     "execution_count": 252,
     "metadata": {},
     "output_type": "execute_result"
    }
   ],
   "source": [
    "look(state,maps)"
   ]
  },
  {
   "cell_type": "code",
   "execution_count": 253,
   "metadata": {},
   "outputs": [
    {
     "data": {
      "text/plain": [
       "[-2.0, 0.0, 0.0, -2.0]"
      ]
     },
     "execution_count": 253,
     "metadata": {},
     "output_type": "execute_result"
    }
   ],
   "source": [
    "qvalues[4]"
   ]
  },
  {
   "cell_type": "code",
   "execution_count": 256,
   "metadata": {},
   "outputs": [
    {
     "data": {
      "text/plain": [
       "[0.0, -2.0, 0.0, -2.0]"
      ]
     },
     "execution_count": 256,
     "metadata": {},
     "output_type": "execute_result"
    }
   ],
   "source": [
    "qvalues[9]"
   ]
  },
  {
   "cell_type": "code",
   "execution_count": 264,
   "metadata": {},
   "outputs": [
    {
     "data": {
      "text/plain": [
       "8"
      ]
     },
     "execution_count": 264,
     "metadata": {},
     "output_type": "execute_result"
    }
   ],
   "source": [
    "state"
   ]
  },
  {
   "cell_type": "code",
   "execution_count": 259,
   "metadata": {},
   "outputs": [],
   "source": []
  },
  {
   "cell_type": "code",
   "execution_count": 262,
   "metadata": {},
   "outputs": [],
   "source": [
    "ttmpx=0\n",
    "ttmpv=[]\n"
   ]
  },
  {
   "cell_type": "code",
   "execution_count": null,
   "metadata": {},
   "outputs": [],
   "source": [
    "        \n",
    "    \"\"\" \n",
    "    target=unvisit[0]    \n",
    "    avloc_,avac_=look(xx,maps)\n",
    "    ttmpq=qvalues[target][avac_[0]]\n",
    "    for xx in  unvisit:\n",
    "        avloc_,avac_=look(xx,maps)\n",
    "        for avacc in avac_:\n",
    "            if qvalues[xx][avacc]>ttmpq:\n",
    "                target=xx\n",
    "                ttmpq=qvalues[xx][avacc]  \n",
    "    \"\"\"   \n",
    "    \n",
    "     \"\"\"\n",
    "         for ch in avac:\n",
    "        if act(state,ch,maps)in unvisit:\n",
    "            qvalues[state][ch]=qvalues[state][ch]+0+max(qvalues[act(state,ch,maps)])\n",
    "        if act(state,ch,maps)in visited:\n",
    "            qvalues[state][ch]=qvalues[state][ch]-1+max(qvalues[act(state,ch,maps)])                  \n",
    "    ttmp=qvalues[state][avac[0]]\n",
    "    ttmpac=avac[0]\n",
    "    for x in avac:\n",
    "        if qvalues[state][x]>ttmp:\n",
    "            ttmp=qvalues[state][x]\n",
    "            ttmpac=x    \n",
    "    state=act(state,ttmpac,maps)\n",
    "     \n",
    "     \"\"\"   \n"
   ]
  },
  {
   "cell_type": "code",
   "execution_count": 263,
   "metadata": {},
   "outputs": [
    {
     "data": {
      "text/plain": [
       "-4.0"
      ]
     },
     "execution_count": 263,
     "metadata": {},
     "output_type": "execute_result"
    }
   ],
   "source": [
    "max(ttmp)"
   ]
  },
  {
   "cell_type": "code",
   "execution_count": 257,
   "metadata": {},
   "outputs": [
    {
     "data": {
      "text/plain": [
       "-4.0"
      ]
     },
     "execution_count": 257,
     "metadata": {},
     "output_type": "execute_result"
    }
   ],
   "source": [
    "sum(qvalues[9])"
   ]
  },
  {
   "cell_type": "code",
   "execution_count": 287,
   "metadata": {},
   "outputs": [],
   "source": [
    "state=2\n",
    "visited=[]\n",
    "unvisit=[]\n",
    "target=0\n",
    "ttmpq=0"
   ]
  },
  {
   "cell_type": "code",
   "execution_count": 467,
   "metadata": {},
   "outputs": [],
   "source": [
    "maps, observed_map,values = generate_map_random(4,4,0)\n",
    "qvalues=[]\n",
    "for j in range(16):\n",
    "    t = []\n",
    "    for i in range(4):\n",
    "        t.append(0.00)\n",
    "    qvalues.append(t)"
   ]
  },
  {
   "cell_type": "code",
   "execution_count": 369,
   "metadata": {},
   "outputs": [
    {
     "name": "stdout",
     "output_type": "stream",
     "text": [
      "visited: [7] unvisited: [3, 11, 6]   -> 3\n",
      "visited: [7, 3] unvisited: [11, 6, 2]   -> 2\n",
      "visited: [7, 3, 2] unvisited: [11, 6, 1]   -> 6\n",
      "visited: [7, 3, 2, 6] unvisited: [11, 1, 10, 5]   -> 5\n",
      "visited: [7, 3, 2, 6, 5] unvisited: [11, 1, 10, 9, 4]   -> 1\n",
      "visited: [7, 3, 2, 6, 5, 1] unvisited: [11, 10, 9, 4, 0]   -> 0\n",
      "visited: [7, 3, 2, 6, 5, 1, 0] unvisited: [11, 10, 9, 4]   -> 4\n",
      "visited: [7, 3, 2, 6, 5, 1, 0, 4] unvisited: [11, 10, 9, 8]   -> 8\n",
      "visited: [7, 3, 2, 6, 5, 1, 0, 4, 8] unvisited: [11, 10, 9, 12]   -> 9\n",
      "visited: [7, 3, 2, 6, 5, 1, 0, 4, 8, 9] unvisited: [11, 10, 12, 13]   -> 10\n",
      "visited: [7, 3, 2, 6, 5, 1, 0, 4, 8, 9, 10] unvisited: [11, 12, 13, 14]   -> 11\n",
      "visited: [7, 3, 2, 6, 5, 1, 0, 4, 8, 9, 10, 11] unvisited: [12, 13, 14, 15]   -> 15\n",
      "visited: [7, 3, 2, 6, 5, 1, 0, 4, 8, 9, 10, 11, 15] unvisited: [12, 13, 14]   -> 14\n",
      "visited: [7, 3, 2, 6, 5, 1, 0, 4, 8, 9, 10, 11, 15, 14] unvisited: [12, 13]   -> 13\n",
      "visited: [7, 3, 2, 6, 5, 1, 0, 4, 8, 9, 10, 11, 15, 14, 13] unvisited: [12]   -> 12\n",
      "finished after: 15\n"
     ]
    }
   ],
   "source": [
    "episode=0\n",
    "record=[]\n",
    "while (episode<100):\n",
    "    episode=episode+1\n",
    "    stepN=0\n",
    "    chose=0\n",
    "    state=7\n",
    "    visited=[]\n",
    "    unvisit=[]\n",
    "    target=0\n",
    "    ttmpq=0\n",
    "    while (stepN<30):\n",
    "        if state in unvisit:\n",
    "            unvisit.remove(state)   \n",
    "        visited.append(state)\n",
    "        avloc,avac=look(state,maps)\n",
    "        for x in avloc:\n",
    "            if x not in unvisit and x not in visited:\n",
    "                unvisit.append(x)\n",
    "\n",
    "        if  len(unvisit)==0:\n",
    "            break\n",
    "\n",
    "        for x in avloc:\n",
    "            ttmpx=x\n",
    "            ttmpv=sum(qvalues[x])\n",
    "            break\n",
    "        for x in avloc:\n",
    "            if sum(qvalues[x])>ttmpv:\n",
    "                ttmpv=sum(qvalues[x])\n",
    "                ttmpx=x\n",
    "        for x in avac:\n",
    "            if act(state,x,maps)==ttmpx:\n",
    "                chose=x\n",
    "                break\n",
    "        if ttmpx in visited:\n",
    "            qvalues[state][chose]=qvalues[state][chose]-1+min(qvalues[ttmpx])\n",
    "        if ttmpx in unvisit:  \n",
    "            qvalues[state][chose]=qvalues[state][chose]+min(qvalues[ttmpx])\n",
    "        state=ttmpx    \n",
    "        #print('visited:',visited, 'unvisited:',unvisit,\"target:\",target,'  ->',state)\n",
    "        print('visited:',visited, 'unvisited:',unvisit,'  ->',state)\n",
    "        stepN=stepN+1\n",
    "        #qvalues\n",
    "    record.append(stepN)\n",
    "    print(\"finished after:\",stepN)"
   ]
  },
  {
   "cell_type": "code",
   "execution_count": 545,
   "metadata": {},
   "outputs": [],
   "source": [
    "maps, observed_map,values = generate_map_random(4,4,0)\n",
    "qvalues=[]\n",
    "for j in range(16):\n",
    "    t = []\n",
    "    for i in range(4):\n",
    "        t.append(0.00)\n",
    "    qvalues.append(t)"
   ]
  },
  {
   "cell_type": "code",
   "execution_count": 551,
   "metadata": {},
   "outputs": [],
   "source": [
    "episode=0\n",
    "record=[]\n",
    "while (episode<100):\n",
    "    episode=episode+1\n",
    "    stepN=0\n",
    "    chose=0\n",
    "    state=7\n",
    "    visited=[]\n",
    "    unvisit=[]\n",
    "    target=0\n",
    "    ttmpq=0\n",
    "    while (stepN<30):\n",
    "        if state in unvisit:\n",
    "            unvisit.remove(state)   \n",
    "        visited.append(state)\n",
    "        avloc,avac=look(state,maps)\n",
    "        for x in avloc:\n",
    "            if x not in unvisit and x not in visited:\n",
    "                unvisit.append(x)\n",
    "\n",
    "        if  len(unvisit)==0:\n",
    "            break\n",
    "\n",
    "        for x in avloc:\n",
    "            ttmpx=x\n",
    "            ttmpv=sum(qvalues[x])\n",
    "            break\n",
    "        for x in avloc:\n",
    "            if sum(qvalues[x])>ttmpv:\n",
    "                ttmpv=sum(qvalues[x])\n",
    "                ttmpx=x\n",
    "        for x in avac:\n",
    "            if act(state,x,maps)==ttmpx:\n",
    "                chose=x\n",
    "                break\n",
    "        if ttmpx in visited:\n",
    "            qvalues[state][chose]=qvalues[state][chose]-1+min(qvalues[ttmpx])\n",
    "        if ttmpx in unvisit:  \n",
    "            qvalues[state][chose]=qvalues[state][chose]+min(qvalues[ttmpx])\n",
    "        state=ttmpx    \n",
    "        #print('visited:',visited, 'unvisited:',unvisit,\"target:\",target,'  ->',state)\n",
    "        #print('visited:',visited, 'unvisited:',unvisit,'  ->',state)\n",
    "        stepN=stepN+1\n",
    "        #qvalues\n",
    "    record.append(stepN)\n",
    "    norm(qvalues)\n",
    "    #print(\"finished after:\",stepN)"
   ]
  },
  {
   "cell_type": "code",
   "execution_count": 540,
   "metadata": {},
   "outputs": [
    {
     "data": {
      "text/plain": [
       "[[0.0, -745.0, 0.0, -427.0],\n",
       " [0.0, -55.0, -805.0, -272.0],\n",
       " [0.0, -374.0, -247.0, -379.0],\n",
       " [0.0, -190.0, -509.0, 0.0],\n",
       " [-421.0, -483.0, 0.0, -296.0],\n",
       " [-438.0, -448.0, -65.0, -1.0],\n",
       " [-362.0, -349.0, -136.0, -1.0],\n",
       " [-271.0, -207.0, -327.0, 0.0],\n",
       " [-374.0, -596.0, 0.0, -32.0],\n",
       " [-522.0, -170.0, -123.0, -220.0],\n",
       " [-275.0, -271.0, -277.0, -88.0],\n",
       " [-86.0, -357.0, -300.0, 0.0],\n",
       " [-346.0, 0.0, 0.0, -631.0],\n",
       " [-140.0, 0.0, -376.0, -89.0],\n",
       " [-89.0, 0.0, -207.0, -393.0],\n",
       " [-470.0, 0.0, -284.0, 0.0]]"
      ]
     },
     "execution_count": 540,
     "metadata": {},
     "output_type": "execute_result"
    }
   ],
   "source": [
    "qvalues"
   ]
  },
  {
   "cell_type": "code",
   "execution_count": 548,
   "metadata": {},
   "outputs": [],
   "source": [
    "import math\n",
    "def norm(qvalue):      \n",
    "    for x in range(len(qvalue)):\n",
    "        tmp=0.00\n",
    "        for y in range(len(qvalue[0])):\n",
    "            tmp=tmp+qvalue[x][y]*qvalue[x][y]\n",
    "        tmp=math.sqrt(tmp)    \n",
    "        for y in range(len(qvalue[0])):\n",
    "            if tmp>0:\n",
    "                qvalue[x][y]=(qvalue[x][y]/tmp)\n",
    "            qvalue[x][y]=float( '%.3f' % qvalue[x][y])\n",
    "    return qvalue"
   ]
  },
  {
   "cell_type": "code",
   "execution_count": 544,
   "metadata": {},
   "outputs": [
    {
     "data": {
      "text/plain": [
       "[[0.0, -0.868, 0.0, -0.497],\n",
       " [0.0, -0.065, -0.945, -0.319],\n",
       " [0.0, -0.637, -0.421, -0.646],\n",
       " [0.0, -0.35, -0.937, 0.0],\n",
       " [-0.596, -0.684, 0.0, -0.419],\n",
       " [-0.695, -0.711, -0.103, -0.002],\n",
       " [-0.695, -0.67, -0.261, -0.002],\n",
       " [-0.574, -0.438, -0.692, 0.0],\n",
       " [-0.531, -0.846, 0.0, -0.045],\n",
       " [-0.864, -0.281, -0.204, -0.364],\n",
       " [-0.569, -0.561, -0.573, -0.182],\n",
       " [-0.181, -0.753, -0.633, 0.0],\n",
       " [-0.481, 0.0, 0.0, -0.877],\n",
       " [-0.341, 0.0, -0.915, -0.217],\n",
       " [-0.196, 0.0, -0.457, -0.868],\n",
       " [-0.856, 0.0, -0.517, 0.0]]"
      ]
     },
     "execution_count": 544,
     "metadata": {},
     "output_type": "execute_result"
    }
   ],
   "source": [
    "norm(qvalues)"
   ]
  },
  {
   "cell_type": "code",
   "execution_count": 553,
   "metadata": {},
   "outputs": [
    {
     "data": {
      "text/plain": [
       "[[0.0, -0.997, 0.0, -0.083],\n",
       " [0.0, -0.083, -0.997, -0.0],\n",
       " [0.0, -0.202, -0.979, -0.0],\n",
       " [0.0, -0.0, -1.0, 0.0],\n",
       " [-0.131, -0.785, 0.0, -0.605],\n",
       " [-0.564, -0.483, -0.0, -0.67],\n",
       " [-0.0, -0.828, -0.561, -0.0],\n",
       " [-1.0, -0.0, -0.0, 0.0],\n",
       " [-0.139, -0.417, 0.0, -0.898],\n",
       " [-0.65, -0.76, -0.023, -0.014],\n",
       " [-0.632, -0.316, -0.0, -0.707],\n",
       " [-0.0, -0.707, -0.707, 0.0],\n",
       " [-0.626, 0.0, 0.0, -0.78],\n",
       " [-0.0, 0.0, -0.884, -0.467],\n",
       " [-0.0, 0.0, -0.735, -0.678],\n",
       " [-0.717, 0.0, -0.697, 0.0]]"
      ]
     },
     "execution_count": 553,
     "metadata": {},
     "output_type": "execute_result"
    }
   ],
   "source": [
    "qvalues"
   ]
  },
  {
   "cell_type": "code",
   "execution_count": 487,
   "metadata": {},
   "outputs": [
    {
     "data": {
      "text/plain": [
       "[<matplotlib.lines.Line2D at 0x15f137b8>]"
      ]
     },
     "execution_count": 487,
     "metadata": {},
     "output_type": "execute_result"
    },
    {
     "data": {
      "image/png": "[encoded data removed]",
      "text/plain": [
       "<matplotlib.figure.Figure at 0x15e26cf8>"
      ]
     },
     "metadata": {},
     "output_type": "display_data"
    }
   ],
   "source": [
    "%matplotlib inline\n",
    "import matplotlib.pyplot as plt\n",
    "import matplotlib as mpl\n",
    "mpl.rcParams['lines.linewidth'] = 2\n",
    "mpl.rcParams['lines.color'] = 'r'\n",
    "plt.plot(record)"
   ]
  },
  {
   "cell_type": "code",
   "execution_count": 550,
   "metadata": {},
   "outputs": [
    {
     "data": {
      "text/plain": [
       "[<matplotlib.lines.Line2D at 0x15f90780>]"
      ]
     },
     "execution_count": 550,
     "metadata": {},
     "output_type": "execute_result"
    },
    {
     "data": {
      "image/png": "[encoded data removed]",
      "text/plain": [
       "<matplotlib.figure.Figure at 0x15f79668>"
      ]
     },
     "metadata": {},
     "output_type": "display_data"
    }
   ],
   "source": [
    "%matplotlib inline\n",
    "import matplotlib.pyplot as plt\n",
    "import matplotlib as mpl\n",
    "mpl.rcParams['lines.linewidth'] = 2\n",
    "mpl.rcParams['lines.color'] = 'r'\n",
    "plt.plot(record)"
   ]
  },
  {
   "cell_type": "code",
   "execution_count": 552,
   "metadata": {},
   "outputs": [
    {
     "data": {
      "text/plain": [
       "[<matplotlib.lines.Line2D at 0x16076278>]"
      ]
     },
     "execution_count": 552,
     "metadata": {},
     "output_type": "execute_result"
    },
    {
     "data": {
      "image/png": "[encoded data removed]",
      "text/plain": [
       "<matplotlib.figure.Figure at 0x15fd5470>"
      ]
     },
     "metadata": {},
     "output_type": "display_data"
    }
   ],
   "source": [
    "%matplotlib inline\n",
    "import matplotlib.pyplot as plt\n",
    "import matplotlib as mpl\n",
    "mpl.rcParams['lines.linewidth'] = 2\n",
    "mpl.rcParams['lines.color'] = 'r'\n",
    "plt.plot(record)"
   ]
  },
  {
   "cell_type": "code",
   "execution_count": 554,
   "metadata": {},
   "outputs": [],
   "source": [
    "maps, observed_map,values = generate_map_random(10,10,0)\n",
    "qvalues=[]\n",
    "for j in range(100):\n",
    "    t = []\n",
    "    for i in range(4):\n",
    "        t.append(0.00)\n",
    "    qvalues.append(t)"
   ]
  },
  {
   "cell_type": "code",
   "execution_count": 555,
   "metadata": {},
   "outputs": [],
   "source": [
    "episode=0\n",
    "record=[]\n",
    "while (episode<100):\n",
    "    episode=episode+1\n",
    "    stepN=0\n",
    "    chose=1\n",
    "    state=7\n",
    "    visited=[]\n",
    "    unvisit=[]\n",
    "    target=0\n",
    "    ttmpq=0\n",
    "    while (stepN<1000):\n",
    "        if state in unvisit:\n",
    "            unvisit.remove(state)   \n",
    "        visited.append(state)\n",
    "        avloc,avac=look(state,maps)\n",
    "        for x in avloc:\n",
    "            if x not in unvisit and x not in visited:\n",
    "                unvisit.append(x)\n",
    "        if  len(unvisit)==0:\n",
    "            break\n",
    "        for x in avloc:\n",
    "            ttmpx=x\n",
    "            ttmpv=sum(qvalues[x])\n",
    "            break\n",
    "        for x in avloc:\n",
    "            if sum(qvalues[x])>ttmpv:\n",
    "                ttmpv=sum(qvalues[x])\n",
    "                ttmpx=x\n",
    "        for x in avac:\n",
    "            if act(state,x,maps)==ttmpx:\n",
    "                chose=x\n",
    "                break\n",
    "        if ttmpx in visited:\n",
    "            qvalues[state][chose]=0.999*qvalues[state][chose]-1+min(qvalues[ttmpx])\n",
    "        if ttmpx in unvisit:  \n",
    "            qvalues[state][chose]=0.999*qvalues[state][chose]+min(qvalues[ttmpx])\n",
    "        state=ttmpx    \n",
    "        #print('visited:',visited, 'unvisited:',unvisit,\"target:\",target,'  ->',state)\n",
    "        #print('visited:',visited, 'unvisited:',unvisit,'  ->',state)\n",
    "        stepN=stepN+1\n",
    "        #qvalues\n",
    "    record.append(stepN)\n",
    "    norm(qvalues)\n",
    "    #print(\"finished after:\",stepN)"
   ]
  },
  {
   "cell_type": "code",
   "execution_count": 466,
   "metadata": {},
   "outputs": [
    {
     "data": {
      "text/plain": [
       "136"
      ]
     },
     "execution_count": 466,
     "metadata": {},
     "output_type": "execute_result"
    }
   ],
   "source": [
    "min(record)"
   ]
  },
  {
   "cell_type": "code",
   "execution_count": 456,
   "metadata": {},
   "outputs": [
    {
     "data": {
      "text/plain": [
       "[<matplotlib.lines.Line2D at 0x15b9cb00>]"
      ]
     },
     "execution_count": 456,
     "metadata": {},
     "output_type": "execute_result"
    },
    {
     "data": {
      "image/png": "[encoded data removed]",
      "text/plain": [
       "<matplotlib.figure.Figure at 0x15ae7b70>"
      ]
     },
     "metadata": {},
     "output_type": "display_data"
    }
   ],
   "source": [
    "%matplotlib inline\n",
    "import matplotlib.pyplot as plt\n",
    "import matplotlib as mpl\n",
    "mpl.rcParams['lines.linewidth'] = 2\n",
    "mpl.rcParams['lines.color'] = 'r'\n",
    "plt.plot(record)"
   ]
  },
  {
   "cell_type": "code",
   "execution_count": 556,
   "metadata": {},
   "outputs": [
    {
     "data": {
      "text/plain": [
       "[<matplotlib.lines.Line2D at 0x160d5978>]"
      ]
     },
     "execution_count": 556,
     "metadata": {},
     "output_type": "execute_result"
    },
    {
     "data": {
      "image/png": "[encoded data removed]",
      "text/plain": [
       "<matplotlib.figure.Figure at 0x15ed3908>"
      ]
     },
     "metadata": {},
     "output_type": "display_data"
    }
   ],
   "source": [
    "%matplotlib inline\n",
    "import matplotlib.pyplot as plt\n",
    "import matplotlib as mpl\n",
    "mpl.rcParams['lines.linewidth'] = 2\n",
    "mpl.rcParams['lines.color'] = 'r'\n",
    "plt.plot(record)"
   ]
  },
  {
   "cell_type": "code",
   "execution_count": null,
   "metadata": {},
   "outputs": [],
   "source": []
  },
  {
   "cell_type": "code",
   "execution_count": null,
   "metadata": {},
   "outputs": [],
   "source": []
  },
  {
   "cell_type": "code",
   "execution_count": 248,
   "metadata": {},
   "outputs": [
    {
     "data": {
      "text/plain": [
       "8"
      ]
     },
     "execution_count": 248,
     "metadata": {},
     "output_type": "execute_result"
    }
   ],
   "source": [
    "state"
   ]
  },
  {
   "cell_type": "code",
   "execution_count": 88,
   "metadata": {},
   "outputs": [
    {
     "name": "stdout",
     "output_type": "stream",
     "text": [
      "[0.0, 0.0, 0.0, 0.0]\n",
      "[0.0, 0.0, 0.0, 0.0]\n"
     ]
    }
   ],
   "source": [
    "for x in unvisit:\n",
    "    print(qvalues[x])\n",
    "    "
   ]
  },
  {
   "cell_type": "code",
   "execution_count": 78,
   "metadata": {},
   "outputs": [
    {
     "data": {
      "text/plain": [
       "[1]"
      ]
     },
     "execution_count": 78,
     "metadata": {},
     "output_type": "execute_result"
    }
   ],
   "source": [
    "visited"
   ]
  },
  {
   "cell_type": "code",
   "execution_count": 79,
   "metadata": {},
   "outputs": [
    {
     "name": "stdout",
     "output_type": "stream",
     "text": [
      "9\n",
      "4\n",
      "6\n"
     ]
    }
   ],
   "source": [
    "for x,_ in look(5,maps):\n",
    "    if x not in visited:\n",
    "        print(x)"
   ]
  },
  {
   "cell_type": "code",
   "execution_count": 75,
   "metadata": {},
   "outputs": [
    {
     "data": {
      "text/plain": [
       "[1, 9, 4, 6]"
      ]
     },
     "execution_count": 75,
     "metadata": {},
     "output_type": "execute_result"
    }
   ],
   "source": [
    "look(5,maps)"
   ]
  },
  {
   "cell_type": "code",
   "execution_count": 16,
   "metadata": {},
   "outputs": [],
   "source": []
  },
  {
   "cell_type": "code",
   "execution_count": 14,
   "metadata": {},
   "outputs": [],
   "source": [
    "qvalues[15][3]=qvalues[15][3]+0.1"
   ]
  },
  {
   "cell_type": "code",
   "execution_count": 25,
   "metadata": {},
   "outputs": [
    {
     "data": {
      "text/plain": [
       "0"
      ]
     },
     "execution_count": 25,
     "metadata": {},
     "output_type": "execute_result"
    }
   ],
   "source": [
    "qvalues[0].index(max(qvalues[0]))"
   ]
  },
  {
   "cell_type": "code",
   "execution_count": 31,
   "metadata": {},
   "outputs": [
    {
     "data": {
      "text/plain": [
       "[[0.0, 0.0, 0.0, 0.0],\n",
       " [0.0, 0.0, 0.0, 0.0],\n",
       " [0.0, 0.0, 0.0, 0.0],\n",
       " [0.0, 0.0, 0.0, 0.0],\n",
       " [0.0, 0.0, 0.0, 0.0],\n",
       " [0.0, 0.0, 0.0, 0.0],\n",
       " [0.0, 0.0, 0.0, 0.0],\n",
       " [0.0, 0.0, 0.0, 0.0],\n",
       " [0.0, 0.0, 0.0, 0.0],\n",
       " [0.0, 0.0, 0.0, 0.0],\n",
       " [0.0, 0.0, 0.0, 0.0],\n",
       " [0.0, 0.0, 0.0, 0.0],\n",
       " [0.0, 0.0, 0.0, 0.0],\n",
       " [0.0, 0.0, 0.0, 0.0],\n",
       " [0.0, 0.0, 0.0, 0.0],\n",
       " [0.0, 0.0, 0.0, 0.0]]"
      ]
     },
     "execution_count": 31,
     "metadata": {},
     "output_type": "execute_result"
    }
   ],
   "source": [
    "qvalues\n"
   ]
  },
  {
   "cell_type": "code",
   "execution_count": 3,
   "metadata": {},
   "outputs": [],
   "source": [
    "class Robot:\n",
    "    maps = None\n",
    "    position = None\n",
    "    direction = 0\n",
    "    turn_number = 0\n",
    "    step_number = 0\n",
    "    paths = []\n",
    "    def __init__(self, maps, position, direction):\n",
    "        self.maps = maps\n",
    "        self.position = position\n",
    "        self.direction = direction\n",
    "        self.maps[position.y][position.x] += 1\n",
    "        self.log(self.position)\n",
    "    def turn_left(self):\n",
    "        self.direction = int((self.direction + 3) % 4)\n",
    "        self.turn_number += 1\n",
    "    def turn_right(self):\n",
    "        self.direction = int((self.direction + 1) % 4)\n",
    "        self.turn_number += 1\n",
    "    def move(self):\n",
    "        '''\n",
    "            direction:\n",
    "            0: move right\n",
    "            1: move down\n",
    "            2: move left\n",
    "            3: move up\n",
    "        '''\n",
    "        if self.direction == 0 and self.can_move(self.direction):\n",
    "            self.position.x += 1\n",
    "            self.log(self.position)\n",
    "        if self.direction == 1 and self.can_move(self.direction):\n",
    "            self.position.y += 1\n",
    "            self.log(self.position)\n",
    "        if self.direction == 2 and self.can_move(self.direction):\n",
    "            self.position.x -= 1\n",
    "            self.log(self.position)\n",
    "        if self.direction == 3 and self.can_move(self.direction):\n",
    "            self.position.y -= 1\n",
    "            self.log(self.position)\n",
    "\n",
    "    def can_move(self, direction):\n",
    "        if direction == 0 and self.position.x < len(self.maps[0]) - 1 and self.maps[self.position.y][self.position.x + 1] >= 0:\n",
    "            return True\n",
    "        if direction == 1 and self.position.y < len(self.maps) - 1 and self.maps[self.position.y + 1][self.position.x] >= 0:\n",
    "            return True\n",
    "        if direction == 2 and self.position.x > 0 and self.maps[self.position.y][self.position.x - 1] >= 0:\n",
    "            return True\n",
    "        if direction == 3 and self.position.y > 0 and self.maps[self.position.y - 1][self.position.x] >= 0:\n",
    "            return True\n",
    "        return False\n",
    "    def has_uncleaned_cell(self, direction):\n",
    "        if direction == 0 and self.position.x < len(self.maps[0]) - 1 and self.maps[self.position.y][self.position.x + 1] == 0:\n",
    "            return True\n",
    "        if direction == 1 and self.position.y < len(self.maps) - 1 and self.maps[self.position.y + 1][self.position.x] == 0:\n",
    "            return True\n",
    "        if direction == 2 and self.position.x > 0 and self.maps[self.position.y][self.position.x - 1] == 0:\n",
    "            return True\n",
    "        if direction == 3 and self.position.y > 0 and self.maps[self.position.y - 1][self.position.x] == 0:\n",
    "            return True\n",
    "        return False\n",
    "    def log(self, position):\n",
    "        self.maps[self.position.y][self.position.x] += 1\n",
    "        self.step_number +=1\n",
    "        self.paths.append(position)"
   ]
  },
  {
   "cell_type": "code",
   "execution_count": 14,
   "metadata": {},
   "outputs": [],
   "source": [
    "from queue import Queue\n",
    "from math import fabs\n",
    "class Sweeper:\n",
    "    robot = None\n",
    "    observed_maps = None\n",
    "    def __init__(self, robot: Robot, maps):\n",
    "        self.robot = robot\n",
    "        self.observed_maps = maps\n",
    "        self.look_around()\n",
    "        self.observed_maps[self.robot.position.y][self.robot.position.x] = 1\n",
    "    def work(self):\n",
    "        start_position = self.robot.position\n",
    "        while True:\n",
    "            path, uncleaned_position = self.find_path(self.observed_maps, start_position)\n",
    "            if uncleaned_position == None:\n",
    "                break\n",
    "            self.move_robot(path)\n",
    "            self.observed_maps[uncleaned_position.y][uncleaned_position.x] += 1\n",
    "            self.look_around()\n",
    "            start_position = uncleaned_position\n",
    "    def look_around(self):\n",
    "        if self.robot.has_uncleaned_cell(direction=0) and self.observed_maps[self.robot.position.y][self.robot.position.x + 1] < 0:\n",
    "            self.observed_maps[self.robot.position.y][self.robot.position.x + 1] = 0\n",
    "        \n",
    "        if self.robot.has_uncleaned_cell(direction=1) and self.observed_maps[self.robot.position.y + 1][self.robot.position.x] < 0:\n",
    "            self.observed_maps[self.robot.position.y+1][self.robot.position.x] = 0\n",
    "        \n",
    "        if self.robot.has_uncleaned_cell(direction=2) and self.observed_maps[self.robot.position.y][self.robot.position.x - 1] < 0:\n",
    "            self.observed_maps[self.robot.position.y][self.robot.position.x - 1] = 0\n",
    "        \n",
    "        if self.robot.has_uncleaned_cell(direction=3) and self.observed_maps[self.robot.position.y - 1][self.robot.position.x] < 0:\n",
    "            self.observed_maps[self.robot.position.y -1][self.robot.position.x] = 0\n",
    "    def move_robot(self, path):\n",
    "        while len(path) > 0:\n",
    "            next_pos = path.pop()\n",
    "            print('-->', next_pos.pos())\n",
    "            direction = 0\n",
    "            if next_pos.x == self.robot.position.x + 1:\n",
    "                direction = 0\n",
    "            if next_pos.y == self.robot.position.y + 1:\n",
    "                direction = 1\n",
    "            if next_pos.x == self.robot.position.x - 1:\n",
    "                direction = 2\n",
    "            if next_pos.y == self.robot.position.y - 1:\n",
    "                direction = 3\n",
    "            rotate = direction - self.robot.direction\n",
    "            if rotate == -1 or rotate == 3:\n",
    "                self.robot.turn_left()\n",
    "            elif rotate == 1 or rotate == -3:\n",
    "                self.robot.turn_right()\n",
    "            elif fabs(rotate) == 2:\n",
    "                # turn back\n",
    "                self.robot.turn_left()\n",
    "                self.robot.turn_left()\n",
    "            \n",
    "            self.robot.move()\n",
    "    def find_path(self, maps, from_position: Position):\n",
    "        return None, None\n",
    "    def get_path(self, from_position, to_position, previous_log):\n",
    "        path = []\n",
    "        if to_position != None:\n",
    "            pos = to_position.pos()\n",
    "            path.append(to_position)\n",
    "            while pos in previous_log.keys():\n",
    "                previous_position = previous_log[pos]\n",
    "                pos = previous_position.pos()\n",
    "                if previous_position.x != from_position.x or previous_position.y != from_position.y:\n",
    "                    path.append(previous_position)\n",
    "        return path"
   ]
  },
  {
   "cell_type": "code",
   "execution_count": 15,
   "metadata": {},
   "outputs": [],
   "source": [
    "from queue import Queue\n",
    "from math import fabs\n",
    "class SweeperB(Sweeper):\n",
    "    def find_path(self, maps, from_position:Position):\n",
    "        adj_queue = Queue()\n",
    "        visited = dict()\n",
    "        previous = dict()\n",
    "        adj_queue.put(from_position)\n",
    "        target_position = None\n",
    "        while not adj_queue.empty():\n",
    "            position = adj_queue.get()\n",
    "            if not position.pos() in visited.keys():\n",
    "                visited[position.pos()] = True\n",
    "                if maps[position.y][position.x] == 0:\n",
    "                    target_position = position\n",
    "                    break\n",
    "                pos = Position(position.x + 1, position.y)\n",
    "                if position.x < len(maps[0]) - 1 and maps[position.y][position.x + 1] >= 0 and not pos.pos() in visited.keys():\n",
    "                    adj_queue.put(pos)\n",
    "                    previous[pos.pos()] = position\n",
    "                pos = Position(position.x, position.y + 1)\n",
    "                if position.y < len(maps) - 1 and maps[position.y + 1][position.x] >= 0 and not pos.pos() in visited.keys():\n",
    "                    adj_queue.put(pos)\n",
    "                    previous[pos.pos()] = position\n",
    "                pos = Position(position.x - 1, position.y)\n",
    "                if position.x > 0 and maps[position.y][position.x - 1] >= 0 and not pos.pos() in visited.keys():\n",
    "                    adj_queue.put(pos)\n",
    "                    previous[pos.pos()] = position\n",
    "                pos = Position(position.x, position.y - 1)\n",
    "                if position.y > 0 and maps[position.y - 1][position.x] >= 0 and not pos.pos() in visited.keys():\n",
    "                    adj_queue.put(pos)\n",
    "                    previous[pos.pos()] = position\n",
    "        path = self.get_path(from_position, target_position, previous)\n",
    "        return path, target_position"
   ]
  },
  {
   "cell_type": "code",
   "execution_count": 19,
   "metadata": {},
   "outputs": [],
   "source": []
  },
  {
   "cell_type": "code",
   "execution_count": null,
   "metadata": {},
   "outputs": [],
   "source": []
  },
  {
   "cell_type": "code",
   "execution_count": 17,
   "metadata": {},
   "outputs": [
    {
     "name": "stdout",
     "output_type": "stream",
     "text": [
      "--> 1-0\n",
      "--> 2-0\n",
      "--> 3-0\n",
      "--> 4-0\n",
      "--> 4-1\n",
      "--> 4-2\n",
      "--> 4-3\n",
      "--> 4-4\n",
      "--> 3-4\n",
      "--> 2-4\n",
      "--> 1-4\n",
      "--> 0-4\n",
      "--> 0-3\n",
      "--> 1-3\n",
      "--> 2-3\n",
      "--> 3-3\n",
      "--> 3-2\n",
      "--> 2-2\n",
      "--> 1-2\n",
      "--> 0-2\n",
      "--> 0-1\n",
      "--> 1-1\n",
      "--> 2-1\n",
      "--> 3-1\n",
      "Robot result. Step number: 25 Turn number: 8\n"
     ]
    }
   ],
   "source": [
    "def main():\n",
    "    maps, observed_map = generate_map_random(5,5,0)\n",
    "    start_position = Position(0, 0)\n",
    "    robot = Robot(maps, start_position, 0)\n",
    "    sweeper = SweeperB(robot, observed_map)\n",
    "    sweeper.work()\n",
    "    print('Robot result. Step number:', robot.step_number, 'Turn number:', robot.turn_number)\n",
    "if __name__ == \"__main__\":\n",
    "    main()"
   ]
  },
  {
   "cell_type": "code",
   "execution_count": null,
   "metadata": {},
   "outputs": [],
   "source": [
    "q"
   ]
  },
  {
   "cell_type": "code",
   "execution_count": null,
   "metadata": {},
   "outputs": [],
   "source": []
  }
 ],
 "metadata": {
  "kernelspec": {
   "display_name": "Python 3",
   "language": "python",
   "name": "python3"
  },
  "language_info": {
   "codemirror_mode": {
    "name": "ipython",
    "version": 3
   },
   "file_extension": ".py",
   "mimetype": "text/x-python",
   "name": "python",
   "nbconvert_exporter": "python",
   "pygments_lexer": "ipython3",
   "version": "3.6.3"
  }
 },
 "nbformat": 4,
 "nbformat_minor": 2
}
